{
 "cells": [
  {
   "attachments": {},
   "cell_type": "markdown",
   "metadata": {},
   "source": [
    "### Section A - Code Review"
   ]
  },
  {
   "attachments": {},
   "cell_type": "markdown",
   "metadata": {},
   "source": [
    "##### This review focuses on Option 1: Python Task, the code submitted in the `anagram.py` file."
   ]
  },
  {
   "attachments": {},
   "cell_type": "markdown",
   "metadata": {},
   "source": [
    "**Correctness**"
   ]
  },
  {
   "attachments": {},
   "cell_type": "markdown",
   "metadata": {},
   "source": [
    "- There is a indentation error in line two. The `def groupAnagrams` function definition appears to be indented with a tab plus an extra space. This extra space should be deleted. If this code is run as is, the following error will be thrown:\n",
    "\n",
    "    `IndentationError: unindent does not match any outer indentation level`\n",
    "\n",
    "- Additionally, the lines of code inside the function definition should be indented, like this:\n",
    "```\n",
    "\n",
    "    def groupAnagrams(self, strs):\n",
    "        result = []\n",
    "        ...\n",
    "\n",
    "```\n",
    "- In line 3, `result` is defined as an empty dictionary `{}`, but it should be an empty list `[]`.\n",
    "\n",
    "- Line 5: `sorted()` is called with no argument, but requires 1 argument. You might refactor the code this way:\n",
    "\n",
    "    ```\n",
    "\n",
    "    for i in strs:\n",
    "        x = \"\".join(sorted(i))\n",
    "        ...\n",
    "\n",
    "    ```\n",
    "\n",
    "- Line 10: `return` is outside the function. It should be inside the function,  like this:\n",
    "\n",
    "    ```\n",
    "\n",
    "    def groupAnagrams(self, strs):\n",
    "        ...\n",
    "        return\n",
    "\n",
    "    ```"
   ]
  },
  {
   "attachments": {},
   "cell_type": "markdown",
   "metadata": {},
   "source": [
    "**Efficiency**"
   ]
  },
  {
   "attachments": {},
   "cell_type": "markdown",
   "metadata": {},
   "source": [
    "- In line 6, instead of checking whether a key exists before appending a value to it, use a `defaultdict` from the `collections` module. This automatically creates a new list if a key doesn't exist yet.\n",
    "\n",
    "    `result = defaultdict(list)`\n",
    "\n",
    "- Line 12: You could make the code more clear and efficient by declaring a variable name and setting it equal to a list to test the function, rather than calling it with a list directly, like this:\n",
    "\n",
    "    ```\n",
    "\n",
    "    anagrams = [\"str\", \"str\", \"str\"]\n",
    "\n",
    "    print(groupAnagrams(anagrams))\n",
    "\n",
    "    ```"
   ]
  },
  {
   "attachments": {},
   "cell_type": "markdown",
   "metadata": {},
   "source": [
    "**Style**"
   ]
  },
  {
   "attachments": {},
   "cell_type": "markdown",
   "metadata": {},
   "source": [
    "- To make it clearer what types of values the method expects, use **type hints**. For instance, add `List[str]` as the type hint for the `strs` argument and `List[List[str]]` for the return value.\n",
    "\n",
    "    `def groupAnagrams(self, strs: List[str]) -> List[List[str]]:`\n",
    "\n",
    "- Line 5: Sort the list inside of the function when creating the key for the dictionary for clarity and readability.\n",
    "\n",
    "```\n",
    "\n",
    "    for s in strs:\n",
    "        sorted_s = \"\".join(sorted(s))\n",
    "        result[sorted_s].append(s)\n",
    "\n",
    "```\n",
    "\n",
    "- Instead of more generic keywords like `x`, use more descriptive keywords, such as `sorted_s` in the example above, to make it clearer what its purpose is."
   ]
  },
  {
   "attachments": {},
   "cell_type": "markdown",
   "metadata": {},
   "source": [
    "**Documentation**"
   ]
  },
  {
   "attachments": {},
   "cell_type": "markdown",
   "metadata": {},
   "source": [
    "- Use docstrings and comments to indicate what functions are doing and what sort of data are represented by different keywords. Here's an example:"
   ]
  },
  {
   "attachments": {},
   "cell_type": "markdown",
   "metadata": {},
   "source": [
    "```\n",
    "\n",
    "# Importing libraries\n",
    "from collections import defaultdict\n",
    "from typing import List\n",
    "\n",
    "# Declaring a class \"Solution\"\n",
    "class Solution:\n",
    "    def groupAnagrams(self, strs):\n",
    "    \"\"\"\n",
    "    Takes a list of anagrams and returns a list of grouped anagrams.\n",
    "    \"\"\"\n",
    "        result = defaultdict(list) # Creating a defaultdict that creates a new list if no key exists\n",
    "        # Looping through strings\n",
    "        for s in strs:\n",
    "            sorted_s = \"\".join(sorted(s)) # Sorting strings\n",
    "            result[sorted_s].append(s) # Setting sorted anagrams as keys and appending corresponding anagrams as values\n",
    "        return list(result.values()) # Returning a list of the values\n",
    "\n",
    "# Creating an object from Solution class\n",
    "ob1 = Solution()\n",
    "\n",
    "# Setting an example anagram list\n",
    "anagrams = [\"eat\", \"tea\", \"tan\", \"ate\", \"nat\", \"bat\"]\n",
    "\n",
    "# Printing a test result\n",
    "print(ob1.groupAnagrams(anagrams))\n",
    "```"
   ]
  },
  {
   "cell_type": "markdown",
   "metadata": {},
   "source": []
  }
 ],
 "metadata": {
  "kernelspec": {
   "display_name": "testenv",
   "language": "python",
   "name": "testenv"
  },
  "language_info": {
   "name": "python",
   "version": "3.10.6"
  },
  "orig_nbformat": 4
 },
 "nbformat": 4,
 "nbformat_minor": 2
}
